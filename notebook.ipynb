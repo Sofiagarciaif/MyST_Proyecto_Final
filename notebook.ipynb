{
 "cells": [
  {
   "cell_type": "markdown",
   "metadata": {},
   "source": [
    "<img src=\"http://oci02.img.iteso.mx/identidad_de_instancia_2018/ITESO/Logos%20ITESO/Logo-ITESO-Principal.jpg\">"
   ]
  },
  {
   "cell_type": "markdown",
   "metadata": {},
   "source": [
    "<center><font color=b><font size=6> Ingeniería Financiera </font> <br> <br>\n",
    "\n",
    "<center><font color=b><font size=5> ITE1731 - Microestructura y Sistemas de Trading </font> <br> <br> <br>\n",
    "\n",
    "<center><font color= b><font size=5> I.F. Patricio Díaz </font> <br> <br>\n",
    "\n",
    "<center><font color=b><font size=5> I.F. Sofía García </font> <br> <br>\n",
    "    \n",
    "<center><font color=b><font size=5> I.F. Marta Martínez </font> <br> <br>\n",
    "    \n",
    "<center><font color=b><font size=5> I.F. Kiara Puente </font> <br> <br>\n",
    "   \n",
    "<center> <font color= b> <font size = 4> Mayo 2021 </a> | <font color= b> <font size = 4> Repositorio: <a href='https://github.com/Sofiagarciaif/myst_proyecto_e2'>Link</a></font>"
   ]
  },
  {
   "cell_type": "markdown",
   "metadata": {},
   "source": [
    "<br>"
   ]
  },
  {
   "cell_type": "markdown",
   "metadata": {},
   "source": [
    "<center> <font color=orange > <font size = 7> PROYECTO  </font> <br> <br> <font color= b> <font size = 5> Sistemas de Trading </font>"
   ]
  },
  {
   "cell_type": "markdown",
   "metadata": {},
   "source": [
    "# <font color= \"brown\"> <font size = 5> Abstract </font>"
   ]
  },
  {
   "cell_type": "markdown",
   "metadata": {},
   "source": [
    " <font size = 3> Este documento fue elaborado por Patricio Díaz, Sofía García,Marta Martínez Valero y Kiara Puente como un proyecto final para la materia de **Microestructura y Sistemas de Trading - ITE1731**, la cual es parte del curriculum de la licenciatura en Ingeniería Financiera, ofertada por la universidad **ITESO**. En el presente trabajo se plantea analizar el comunicado de un indicador económico como un evento que puede generar patrones temporales en las reacciones del precio de un activo financiero. Con estas reacciones del precio, se busca detectar patrones y utilizarlos para construir un sistema de trading. </font> "
   ]
  },
  {
   "cell_type": "markdown",
   "metadata": {},
   "source": [
    "<br>"
   ]
  },
  {
   "cell_type": "markdown",
   "metadata": {},
   "source": [
    "# <font color= \"brown\" > <font size = 6> 0. Librerías y Dependencias </font>"
   ]
  },
  {
   "cell_type": "markdown",
   "metadata": {},
   "source": [
    "<hr style=\"border:0.02in solid orange\"> </hr>"
   ]
  },
  {
   "cell_type": "markdown",
   "metadata": {},
   "source": [
    "# <font color= orange> <font size = 5> 0.1 Librerías </font> <font color= #555555>"
   ]
  },
  {
   "cell_type": "markdown",
   "metadata": {},
   "source": [
    "Para correr este notebook es necesario tener instaladas y/o en el archivo _requirements.txt_ las siguientes librerías :"
   ]
  },
  {
   "cell_type": "markdown",
   "metadata": {},
   "source": [
    "- pandas>=1.1.1 \n",
    "- numpy>=1.19.1\n",
    "- jupyter>=1.0.0"
   ]
  },
  {
   "cell_type": "code",
   "execution_count": 1,
   "metadata": {},
   "outputs": [],
   "source": [
    "import data as dt \n",
    "import visualizations as vs\n",
    "import functions as fn "
   ]
  },
  {
   "cell_type": "markdown",
   "metadata": {},
   "source": [
    "# <font color= orange> <font size = 5> 0.2 Dependencias </font> <font color= #555555>"
   ]
  },
  {
   "cell_type": "markdown",
   "metadata": {},
   "source": [
    "Para correr este notebook es necesario contar con los siguientes archivos y dependencias externas:"
   ]
  },
  {
   "cell_type": "markdown",
   "metadata": {},
   "source": [
    "- files/precios.csv : Precios históricos\n",
    "- files/datos.txt : Otros datos históricos"
   ]
  },
  {
   "cell_type": "markdown",
   "metadata": {},
   "source": [
    "<br>"
   ]
  },
  {
   "cell_type": "markdown",
   "metadata": {},
   "source": [
    "# <font color= \"brown\"> <font size = 6> 1. Introducción </font>"
   ]
  },
  {
   "cell_type": "markdown",
   "metadata": {},
   "source": [
    "<hr style=\"border:0.02in solid orange\"> </hr>"
   ]
  },
  {
   "cell_type": "markdown",
   "metadata": {},
   "source": [
    "Un trader es todo aquel inversor que opera en los mercados financieros con la finalidad de obtener beneficios en el corto, medio o largo plazo, lo anterior lo logra mediante análisis técnico o fundamental.\n",
    "\n",
    "Por otro lado, sabemos que existen diferentes tipos de trading: trading discrecional y su contrario, el trading algoritmico.\n",
    "El trading discrecional es la operación basada en el propio criterio e intuición del trader sin unas reglas a seguir de forma sistemática. Por esto se dice que es lo contrario al trading algorítmico.\n",
    "\n",
    "El trading algorítmico se basa en crear algoritmos que nos permitan detectar oportunidades para tener mejores beneficios. Los algoritmos se crean en función de las condiciones del mercado, el tipo de accion, mercados, entre otros, para detectar la mejor estrategia para obtener un mayor rendimiento, todo lo anterior sin la influencia de los sentimientos del ser humano como lo es el miedo a perder o el gusto de ganar. \n"
   ]
  },
  {
   "cell_type": "markdown",
   "metadata": {},
   "source": [
    "<br>"
   ]
  },
  {
   "cell_type": "markdown",
   "metadata": {},
   "source": [
    "# <font color= brown> <font size = 6> 2. Objetivos </font>"
   ]
  },
  {
   "cell_type": "markdown",
   "metadata": {},
   "source": [
    "<hr style=\"border:0.02in solid orange\"> </hr>"
   ]
  },
  {
   "cell_type": "markdown",
   "metadata": {},
   "source": [
    "El presente proyecto tiene como objetivo analizar el comunicado de un indicador económico **Purchasing Manager Index (PMI)** como un evento que puede generar patrones temporales en las reacciones del precio de un activo financiero: **USD Y GBP**. Con estas reacciones del precio, se busca detectar patrones y utilizarlos para construir un sistema de trading."
   ]
  },
  {
   "cell_type": "markdown",
   "metadata": {},
   "source": [
    "<br>"
   ]
  },
  {
   "cell_type": "markdown",
   "metadata": {},
   "source": [
    "# <font color= brown> <font size = 6> 3. Datos </font>"
   ]
  },
  {
   "cell_type": "markdown",
   "metadata": {},
   "source": [
    "<hr style=\"border:0.02in solid orange\"> </hr>"
   ]
  },
  {
   "cell_type": "markdown",
   "metadata": {},
   "source": [
    "#### <font color= a05000 >IMPORTAMOS LOS DATOS DEL PMI (PURCHASING MANAGER INDEX) "
   ]
  },
  {
   "cell_type": "code",
   "execution_count": 2,
   "metadata": {
    "scrolled": true
   },
   "outputs": [],
   "source": [
    "PMI = dt.f_import_pmi()"
   ]
  },
  {
   "cell_type": "code",
   "execution_count": 3,
   "metadata": {},
   "outputs": [
    {
     "data": {
      "text/html": [
       "<div>\n",
       "<style scoped>\n",
       "    .dataframe tbody tr th:only-of-type {\n",
       "        vertical-align: middle;\n",
       "    }\n",
       "\n",
       "    .dataframe tbody tr th {\n",
       "        vertical-align: top;\n",
       "    }\n",
       "\n",
       "    .dataframe thead th {\n",
       "        text-align: right;\n",
       "    }\n",
       "</style>\n",
       "<table border=\"1\" class=\"dataframe\">\n",
       "  <thead>\n",
       "    <tr style=\"text-align: right;\">\n",
       "      <th></th>\n",
       "      <th>Actual</th>\n",
       "      <th>Prevision</th>\n",
       "      <th>Anterior</th>\n",
       "    </tr>\n",
       "    <tr>\n",
       "      <th>Fecha y hora</th>\n",
       "      <th></th>\n",
       "      <th></th>\n",
       "      <th></th>\n",
       "    </tr>\n",
       "  </thead>\n",
       "  <tbody>\n",
       "    <tr>\n",
       "      <th>2021-04-07 10:30:00</th>\n",
       "      <td>56.3</td>\n",
       "      <td>56.8</td>\n",
       "      <td>49.5</td>\n",
       "    </tr>\n",
       "    <tr>\n",
       "      <th>2021-03-24 11:30:00</th>\n",
       "      <td>56.8</td>\n",
       "      <td>51.0</td>\n",
       "      <td>49.5</td>\n",
       "    </tr>\n",
       "    <tr>\n",
       "      <th>2021-03-03 11:30:00</th>\n",
       "      <td>49.5</td>\n",
       "      <td>49.7</td>\n",
       "      <td>39.5</td>\n",
       "    </tr>\n",
       "    <tr>\n",
       "      <th>2021-02-19 11:30:00</th>\n",
       "      <td>49.7</td>\n",
       "      <td>41.0</td>\n",
       "      <td>39.5</td>\n",
       "    </tr>\n",
       "    <tr>\n",
       "      <th>2021-02-03 11:30:00</th>\n",
       "      <td>39.5</td>\n",
       "      <td>38.8</td>\n",
       "      <td>38.8</td>\n",
       "    </tr>\n",
       "  </tbody>\n",
       "</table>\n",
       "</div>"
      ],
      "text/plain": [
       "                     Actual  Prevision  Anterior\n",
       "Fecha y hora                                    \n",
       "2021-04-07 10:30:00    56.3       56.8      49.5\n",
       "2021-03-24 11:30:00    56.8       51.0      49.5\n",
       "2021-03-03 11:30:00    49.5       49.7      39.5\n",
       "2021-02-19 11:30:00    49.7       41.0      39.5\n",
       "2021-02-03 11:30:00    39.5       38.8      38.8"
      ]
     },
     "execution_count": 3,
     "metadata": {},
     "output_type": "execute_result"
    }
   ],
   "source": [
    "PMI.head(5)"
   ]
  },
  {
   "cell_type": "code",
   "execution_count": 4,
   "metadata": {},
   "outputs": [
    {
     "data": {
      "text/html": [
       "<div>\n",
       "<style scoped>\n",
       "    .dataframe tbody tr th:only-of-type {\n",
       "        vertical-align: middle;\n",
       "    }\n",
       "\n",
       "    .dataframe tbody tr th {\n",
       "        vertical-align: top;\n",
       "    }\n",
       "\n",
       "    .dataframe thead th {\n",
       "        text-align: right;\n",
       "    }\n",
       "</style>\n",
       "<table border=\"1\" class=\"dataframe\">\n",
       "  <thead>\n",
       "    <tr style=\"text-align: right;\">\n",
       "      <th></th>\n",
       "      <th>Actual</th>\n",
       "      <th>Prevision</th>\n",
       "      <th>Anterior</th>\n",
       "    </tr>\n",
       "    <tr>\n",
       "      <th>Fecha y hora</th>\n",
       "      <th></th>\n",
       "      <th></th>\n",
       "      <th></th>\n",
       "    </tr>\n",
       "  </thead>\n",
       "  <tbody>\n",
       "    <tr>\n",
       "      <th>2019-09-04 10:30:00</th>\n",
       "      <td>50.6</td>\n",
       "      <td>51.0</td>\n",
       "      <td>51.4</td>\n",
       "    </tr>\n",
       "    <tr>\n",
       "      <th>2019-08-05 10:30:00</th>\n",
       "      <td>51.4</td>\n",
       "      <td>50.4</td>\n",
       "      <td>50.2</td>\n",
       "    </tr>\n",
       "    <tr>\n",
       "      <th>2019-07-03 10:30:00</th>\n",
       "      <td>50.2</td>\n",
       "      <td>51.0</td>\n",
       "      <td>51.0</td>\n",
       "    </tr>\n",
       "    <tr>\n",
       "      <th>2019-06-05 10:30:00</th>\n",
       "      <td>51.0</td>\n",
       "      <td>50.6</td>\n",
       "      <td>50.4</td>\n",
       "    </tr>\n",
       "    <tr>\n",
       "      <th>2019-05-03 10:30:00</th>\n",
       "      <td>50.4</td>\n",
       "      <td>50.4</td>\n",
       "      <td>48.9</td>\n",
       "    </tr>\n",
       "  </tbody>\n",
       "</table>\n",
       "</div>"
      ],
      "text/plain": [
       "                     Actual  Prevision  Anterior\n",
       "Fecha y hora                                    \n",
       "2019-09-04 10:30:00    50.6       51.0      51.4\n",
       "2019-08-05 10:30:00    51.4       50.4      50.2\n",
       "2019-07-03 10:30:00    50.2       51.0      51.0\n",
       "2019-06-05 10:30:00    51.0       50.6      50.4\n",
       "2019-05-03 10:30:00    50.4       50.4      48.9"
      ]
     },
     "execution_count": 4,
     "metadata": {},
     "output_type": "execute_result"
    }
   ],
   "source": [
    "PMI.tail(5)"
   ]
  },
  {
   "cell_type": "markdown",
   "metadata": {},
   "source": [
    "#### <font color= a05000 >IMPORTAMOS LOS DATOS HISTÓRICOS DEL GBP/USD DE CADA MINUTO"
   ]
  },
  {
   "cell_type": "code",
   "execution_count": 5,
   "metadata": {},
   "outputs": [],
   "source": [
    "PRECIOSGBP = dt.f_import_precios()"
   ]
  },
  {
   "cell_type": "code",
   "execution_count": 6,
   "metadata": {},
   "outputs": [
    {
     "data": {
      "text/html": [
       "<div>\n",
       "<style scoped>\n",
       "    .dataframe tbody tr th:only-of-type {\n",
       "        vertical-align: middle;\n",
       "    }\n",
       "\n",
       "    .dataframe tbody tr th {\n",
       "        vertical-align: top;\n",
       "    }\n",
       "\n",
       "    .dataframe thead th {\n",
       "        text-align: right;\n",
       "    }\n",
       "</style>\n",
       "<table border=\"1\" class=\"dataframe\">\n",
       "  <thead>\n",
       "    <tr style=\"text-align: right;\">\n",
       "      <th></th>\n",
       "      <th>Open</th>\n",
       "      <th>High</th>\n",
       "      <th>Low</th>\n",
       "      <th>Close</th>\n",
       "    </tr>\n",
       "    <tr>\n",
       "      <th>Fecha y hora</th>\n",
       "      <th></th>\n",
       "      <th></th>\n",
       "      <th></th>\n",
       "      <th></th>\n",
       "    </tr>\n",
       "  </thead>\n",
       "  <tbody>\n",
       "    <tr>\n",
       "      <th>2019-01-01 17:06:00</th>\n",
       "      <td>1.27459</td>\n",
       "      <td>1.27459</td>\n",
       "      <td>1.27250</td>\n",
       "      <td>1.27250</td>\n",
       "    </tr>\n",
       "    <tr>\n",
       "      <th>2019-01-01 17:11:00</th>\n",
       "      <td>1.27227</td>\n",
       "      <td>1.27227</td>\n",
       "      <td>1.27227</td>\n",
       "      <td>1.27227</td>\n",
       "    </tr>\n",
       "    <tr>\n",
       "      <th>2019-01-01 17:12:00</th>\n",
       "      <td>1.27294</td>\n",
       "      <td>1.27294</td>\n",
       "      <td>1.27294</td>\n",
       "      <td>1.27294</td>\n",
       "    </tr>\n",
       "    <tr>\n",
       "      <th>2019-01-01 17:13:00</th>\n",
       "      <td>1.27294</td>\n",
       "      <td>1.27295</td>\n",
       "      <td>1.27294</td>\n",
       "      <td>1.27295</td>\n",
       "    </tr>\n",
       "    <tr>\n",
       "      <th>2019-01-01 17:14:00</th>\n",
       "      <td>1.27295</td>\n",
       "      <td>1.27295</td>\n",
       "      <td>1.27277</td>\n",
       "      <td>1.27277</td>\n",
       "    </tr>\n",
       "  </tbody>\n",
       "</table>\n",
       "</div>"
      ],
      "text/plain": [
       "                        Open     High      Low    Close\n",
       "Fecha y hora                                           \n",
       "2019-01-01 17:06:00  1.27459  1.27459  1.27250  1.27250\n",
       "2019-01-01 17:11:00  1.27227  1.27227  1.27227  1.27227\n",
       "2019-01-01 17:12:00  1.27294  1.27294  1.27294  1.27294\n",
       "2019-01-01 17:13:00  1.27294  1.27295  1.27294  1.27295\n",
       "2019-01-01 17:14:00  1.27295  1.27295  1.27277  1.27277"
      ]
     },
     "execution_count": 6,
     "metadata": {},
     "output_type": "execute_result"
    }
   ],
   "source": [
    "PRECIOSGBP.head(5)"
   ]
  },
  {
   "cell_type": "code",
   "execution_count": 7,
   "metadata": {},
   "outputs": [
    {
     "data": {
      "text/html": [
       "<div>\n",
       "<style scoped>\n",
       "    .dataframe tbody tr th:only-of-type {\n",
       "        vertical-align: middle;\n",
       "    }\n",
       "\n",
       "    .dataframe tbody tr th {\n",
       "        vertical-align: top;\n",
       "    }\n",
       "\n",
       "    .dataframe thead th {\n",
       "        text-align: right;\n",
       "    }\n",
       "</style>\n",
       "<table border=\"1\" class=\"dataframe\">\n",
       "  <thead>\n",
       "    <tr style=\"text-align: right;\">\n",
       "      <th></th>\n",
       "      <th>Open</th>\n",
       "      <th>High</th>\n",
       "      <th>Low</th>\n",
       "      <th>Close</th>\n",
       "    </tr>\n",
       "    <tr>\n",
       "      <th>Fecha y hora</th>\n",
       "      <th></th>\n",
       "      <th></th>\n",
       "      <th></th>\n",
       "      <th></th>\n",
       "    </tr>\n",
       "  </thead>\n",
       "  <tbody>\n",
       "    <tr>\n",
       "      <th>2021-04-30 16:54:00</th>\n",
       "      <td>1.38126</td>\n",
       "      <td>1.38126</td>\n",
       "      <td>1.38123</td>\n",
       "      <td>1.38123</td>\n",
       "    </tr>\n",
       "    <tr>\n",
       "      <th>2021-04-30 16:55:00</th>\n",
       "      <td>1.38125</td>\n",
       "      <td>1.38150</td>\n",
       "      <td>1.38125</td>\n",
       "      <td>1.38143</td>\n",
       "    </tr>\n",
       "    <tr>\n",
       "      <th>2021-04-30 16:56:00</th>\n",
       "      <td>1.38143</td>\n",
       "      <td>1.38166</td>\n",
       "      <td>1.38122</td>\n",
       "      <td>1.38123</td>\n",
       "    </tr>\n",
       "    <tr>\n",
       "      <th>2021-04-30 16:57:00</th>\n",
       "      <td>1.38122</td>\n",
       "      <td>1.38179</td>\n",
       "      <td>1.38120</td>\n",
       "      <td>1.38121</td>\n",
       "    </tr>\n",
       "    <tr>\n",
       "      <th>2021-04-30 16:58:00</th>\n",
       "      <td>1.38107</td>\n",
       "      <td>1.38192</td>\n",
       "      <td>1.38103</td>\n",
       "      <td>1.38106</td>\n",
       "    </tr>\n",
       "  </tbody>\n",
       "</table>\n",
       "</div>"
      ],
      "text/plain": [
       "                        Open     High      Low    Close\n",
       "Fecha y hora                                           \n",
       "2021-04-30 16:54:00  1.38126  1.38126  1.38123  1.38123\n",
       "2021-04-30 16:55:00  1.38125  1.38150  1.38125  1.38143\n",
       "2021-04-30 16:56:00  1.38143  1.38166  1.38122  1.38123\n",
       "2021-04-30 16:57:00  1.38122  1.38179  1.38120  1.38121\n",
       "2021-04-30 16:58:00  1.38107  1.38192  1.38103  1.38106"
      ]
     },
     "execution_count": 7,
     "metadata": {},
     "output_type": "execute_result"
    }
   ],
   "source": [
    "PRECIOSGBP.tail(5)"
   ]
  },
  {
   "cell_type": "markdown",
   "metadata": {},
   "source": [
    "# <font color= brown> <font size = 6> 4. Procesos </font>"
   ]
  },
  {
   "cell_type": "markdown",
   "metadata": {},
   "source": [
    "<hr style=\"border:0.02in solid orange\"> </hr>"
   ]
  },
  {
   "cell_type": "markdown",
   "metadata": {},
   "source": [
    "# <font color= darkgoldenrod> <font size = 5 > Etapa 2 - Datos Históricos</font>"
   ]
  },
  {
   "cell_type": "markdown",
   "metadata": {},
   "source": [
    "# <font color= orange> <font size = 4 > Aspectos financieros</font>"
   ]
  },
  {
   "cell_type": "markdown",
   "metadata": {},
   "source": [
    "\n",
    "Reino Unido - Índice PMI para el sector de servicios. El índice de gerentes de compras del “Chartered Institute of Purchasing and Supply (CIPS)”  lo que hace es medir el nivel de actividad de los gerentes de compras en el sector de servicios. Cualquier valor que se encuentre por encima de 50 nos indica una expansión, mientras que un valor que se encuentre por debajo de 50 nos indica una disminución. Esto nos proporciona una indicación de la salud de la industria de servicios en el Reino Unido. Los comerciantes lo que hacen es monitorear de cerca las encuestas, ya que los compradores generalmente tienen un fácil acceso a los datos sobre el desempeño que tienen sus empresa, lo que esto puede llegar a ser un indicador de los resultados macroeconómicos. Con un valor superior al que esta esperado debería considerarse positivo o alcista para la GBP, pero por otro lado que un valor sea inferior al esperado esto se considerá negativo y bajista para la GBP."
   ]
  },
  {
   "cell_type": "markdown",
   "metadata": {},
   "source": [
    "# <font color= sandybrown> <font size = 3 > VALIDACION VISUAL 1</font>"
   ]
  },
  {
   "cell_type": "code",
   "execution_count": 8,
   "metadata": {},
   "outputs": [
    {
     "data": {
      "text/html": [
       "<div>\n",
       "<style scoped>\n",
       "    .dataframe tbody tr th:only-of-type {\n",
       "        vertical-align: middle;\n",
       "    }\n",
       "\n",
       "    .dataframe tbody tr th {\n",
       "        vertical-align: top;\n",
       "    }\n",
       "\n",
       "    .dataframe thead th {\n",
       "        text-align: right;\n",
       "    }\n",
       "</style>\n",
       "<table border=\"1\" class=\"dataframe\">\n",
       "  <thead>\n",
       "    <tr style=\"text-align: right;\">\n",
       "      <th></th>\n",
       "      <th>Actual</th>\n",
       "      <th>Prevision</th>\n",
       "      <th>Anterior</th>\n",
       "    </tr>\n",
       "    <tr>\n",
       "      <th>Fecha y hora</th>\n",
       "      <th></th>\n",
       "      <th></th>\n",
       "      <th></th>\n",
       "    </tr>\n",
       "  </thead>\n",
       "  <tbody>\n",
       "    <tr>\n",
       "      <th>2020-12-03 11:30:00</th>\n",
       "      <td>47.6</td>\n",
       "      <td>45.8</td>\n",
       "      <td>51.4</td>\n",
       "    </tr>\n",
       "  </tbody>\n",
       "</table>\n",
       "</div>"
      ],
      "text/plain": [
       "                     Actual  Prevision  Anterior\n",
       "Fecha y hora                                    \n",
       "2020-12-03 11:30:00    47.6       45.8      51.4"
      ]
     },
     "execution_count": 8,
     "metadata": {},
     "output_type": "execute_result"
    }
   ],
   "source": [
    "FechaPMI=PMI['Actual']== 47.6\n",
    "PMI_EJ1 = PMI[FechaPMI]\n",
    "PMI_EJ1"
   ]
  },
  {
   "cell_type": "markdown",
   "metadata": {},
   "source": [
    "<img src=\"files/3 de diciembre de 2020.PNG\" style=\"width:600px;\">"
   ]
  },
  {
   "cell_type": "markdown",
   "metadata": {},
   "source": [
    "En el día 3 de Diciembre del 2020 el indicador supero las expectativas que se tenian ya que llego a 47.6 ya que se tenia esperado que llegara a 45.8"
   ]
  },
  {
   "cell_type": "code",
   "execution_count": 2,
   "metadata": {},
   "outputs": [
    {
     "ename": "NameError",
     "evalue": "name 'fn' is not defined",
     "output_type": "error",
     "traceback": [
      "\u001b[1;31m---------------------------------------------------------------------------\u001b[0m",
      "\u001b[1;31mNameError\u001b[0m                                 Traceback (most recent call last)",
      "\u001b[1;32m<ipython-input-2-e503d851ae20>\u001b[0m in \u001b[0;36m<module>\u001b[1;34m\u001b[0m\n\u001b[0;32m      5\u001b[0m \u001b[0mvolumen\u001b[0m \u001b[1;33m=\u001b[0m \u001b[1;36m200\u001b[0m\u001b[1;33m\u001b[0m\u001b[1;33m\u001b[0m\u001b[0m\n\u001b[0;32m      6\u001b[0m \u001b[1;33m\u001b[0m\u001b[0m\n\u001b[1;32m----> 7\u001b[1;33m \u001b[0mfn\u001b[0m\u001b[1;33m.\u001b[0m\u001b[0moperacion\u001b[0m\u001b[1;33m(\u001b[0m\u001b[0mp_inicial\u001b[0m\u001b[1;33m=\u001b[0m\u001b[0minicial\u001b[0m\u001b[1;33m,\u001b[0m \u001b[0mp_final\u001b[0m\u001b[1;33m=\u001b[0m\u001b[0mfinal\u001b[0m\u001b[1;33m,\u001b[0m \u001b[0mp_max\u001b[0m\u001b[1;33m=\u001b[0m\u001b[0mmaxi\u001b[0m\u001b[1;33m,\u001b[0m\u001b[0mp_min\u001b[0m\u001b[1;33m=\u001b[0m\u001b[0mmini\u001b[0m\u001b[1;33m,\u001b[0m \u001b[0mtipo\u001b[0m\u001b[1;33m=\u001b[0m\u001b[0mtipo\u001b[0m\u001b[1;33m,\u001b[0m \u001b[0mt_profit\u001b[0m\u001b[1;33m=\u001b[0m\u001b[0mprofit\u001b[0m\u001b[1;33m,\u001b[0m \u001b[0ms_loss\u001b[0m\u001b[1;33m=\u001b[0m\u001b[0mloss\u001b[0m\u001b[1;33m,\u001b[0m \u001b[0mfecha_hora\u001b[0m\u001b[1;33m=\u001b[0m\u001b[0mfecha\u001b[0m\u001b[1;33m)\u001b[0m\u001b[1;33m\u001b[0m\u001b[1;33m\u001b[0m\u001b[0m\n\u001b[0m",
      "\u001b[1;31mNameError\u001b[0m: name 'fn' is not defined"
     ]
    }
   ],
   "source": [
    "fecha, tipo = \"2020-12-03 11:30\", 'venta'\n",
    "inicial,final = 1.3499, 1.3490\n",
    "maxi, mini = 1.3500,1.3477\n",
    "profit, loss = 20, 10\n",
    "volumen = 200\n",
    "\n",
    "fn.operacion(p_inicial=inicial, p_final=final, p_max=maxi,p_min=mini, tipo=tipo, t_profit=profit, s_loss=loss, fecha_hora=fecha)"
   ]
  },
  {
   "cell_type": "markdown",
   "metadata": {},
   "source": [
    "# <font color= sandybrown> <font size = 3 > VALIDACION VISUAL 2</font>"
   ]
  },
  {
   "cell_type": "code",
   "execution_count": 10,
   "metadata": {},
   "outputs": [
    {
     "data": {
      "text/html": [
       "<div>\n",
       "<style scoped>\n",
       "    .dataframe tbody tr th:only-of-type {\n",
       "        vertical-align: middle;\n",
       "    }\n",
       "\n",
       "    .dataframe tbody tr th {\n",
       "        vertical-align: top;\n",
       "    }\n",
       "\n",
       "    .dataframe thead th {\n",
       "        text-align: right;\n",
       "    }\n",
       "</style>\n",
       "<table border=\"1\" class=\"dataframe\">\n",
       "  <thead>\n",
       "    <tr style=\"text-align: right;\">\n",
       "      <th></th>\n",
       "      <th>Actual</th>\n",
       "      <th>Prevision</th>\n",
       "      <th>Anterior</th>\n",
       "    </tr>\n",
       "    <tr>\n",
       "      <th>Fecha y hora</th>\n",
       "      <th></th>\n",
       "      <th></th>\n",
       "      <th></th>\n",
       "    </tr>\n",
       "  </thead>\n",
       "  <tbody>\n",
       "    <tr>\n",
       "      <th>2021-02-19 11:30:00</th>\n",
       "      <td>49.7</td>\n",
       "      <td>41.0</td>\n",
       "      <td>39.5</td>\n",
       "    </tr>\n",
       "  </tbody>\n",
       "</table>\n",
       "</div>"
      ],
      "text/plain": [
       "                     Actual  Prevision  Anterior\n",
       "Fecha y hora                                    \n",
       "2021-02-19 11:30:00    49.7       41.0      39.5"
      ]
     },
     "execution_count": 10,
     "metadata": {},
     "output_type": "execute_result"
    }
   ],
   "source": [
    "FechaPMI=PMI['Actual']== 49.7\n",
    "PMI_EJ2 = PMI[FechaPMI]\n",
    "PMI_EJ2"
   ]
  },
  {
   "cell_type": "markdown",
   "metadata": {},
   "source": [
    "<img src=\"files/19 de febrero 2021.PNG\" style=\"width:600px;\">"
   ]
  },
  {
   "cell_type": "markdown",
   "metadata": {},
   "source": [
    "El indicador se ubicó en 49.7 en febrero del 2021 a la alza, con lo que superó en 8.7 a lo que se tenia esperado(41)"
   ]
  },
  {
   "cell_type": "code",
   "execution_count": 11,
   "metadata": {},
   "outputs": [
    {
     "data": {
      "text/html": [
       "<div>\n",
       "<style scoped>\n",
       "    .dataframe tbody tr th:only-of-type {\n",
       "        vertical-align: middle;\n",
       "    }\n",
       "\n",
       "    .dataframe tbody tr th {\n",
       "        vertical-align: top;\n",
       "    }\n",
       "\n",
       "    .dataframe thead th {\n",
       "        text-align: right;\n",
       "    }\n",
       "</style>\n",
       "<table border=\"1\" class=\"dataframe\">\n",
       "  <thead>\n",
       "    <tr style=\"text-align: right;\">\n",
       "      <th></th>\n",
       "      <th>Concepto</th>\n",
       "      <th>Valor</th>\n",
       "    </tr>\n",
       "  </thead>\n",
       "  <tbody>\n",
       "    <tr>\n",
       "      <th>0</th>\n",
       "      <td>DateTime</td>\n",
       "      <td>2020-12-03 11:30</td>\n",
       "    </tr>\n",
       "    <tr>\n",
       "      <th>1</th>\n",
       "      <td>Ventana</td>\n",
       "      <td>30 min</td>\n",
       "    </tr>\n",
       "    <tr>\n",
       "      <th>2</th>\n",
       "      <td>Precio inicial</td>\n",
       "      <td>1.11405</td>\n",
       "    </tr>\n",
       "    <tr>\n",
       "      <th>3</th>\n",
       "      <td>Precio Final</td>\n",
       "      <td>1.11294</td>\n",
       "    </tr>\n",
       "    <tr>\n",
       "      <th>4</th>\n",
       "      <td>Precio Max</td>\n",
       "      <td>1.11405</td>\n",
       "    </tr>\n",
       "    <tr>\n",
       "      <th>5</th>\n",
       "      <td>Precio Min</td>\n",
       "      <td>1.11254</td>\n",
       "    </tr>\n",
       "    <tr>\n",
       "      <th>6</th>\n",
       "      <td>Stop loss</td>\n",
       "      <td>1.11505</td>\n",
       "    </tr>\n",
       "    <tr>\n",
       "      <th>7</th>\n",
       "      <td>Take profit</td>\n",
       "      <td>1.11205</td>\n",
       "    </tr>\n",
       "    <tr>\n",
       "      <th>8</th>\n",
       "      <td>Volumen</td>\n",
       "      <td>897</td>\n",
       "    </tr>\n",
       "    <tr>\n",
       "      <th>9</th>\n",
       "      <td>Capital</td>\n",
       "      <td>1000 USD</td>\n",
       "    </tr>\n",
       "    <tr>\n",
       "      <th>10</th>\n",
       "      <td>Posicion</td>\n",
       "      <td>venta</td>\n",
       "    </tr>\n",
       "  </tbody>\n",
       "</table>\n",
       "</div>"
      ],
      "text/plain": [
       "          Concepto             Valor\n",
       "0         DateTime  2020-12-03 11:30\n",
       "1          Ventana            30 min\n",
       "2   Precio inicial           1.11405\n",
       "3     Precio Final           1.11294\n",
       "4       Precio Max           1.11405\n",
       "5       Precio Min           1.11254\n",
       "6        Stop loss           1.11505\n",
       "7      Take profit           1.11205\n",
       "8          Volumen               897\n",
       "9          Capital          1000 USD\n",
       "10        Posicion             venta"
      ]
     },
     "execution_count": 11,
     "metadata": {},
     "output_type": "execute_result"
    }
   ],
   "source": [
    "fecha, tipo = \"2021-02-19 11:30\", 'venta'\n",
    "inicial,final = 1.4012, 1.4023\n",
    "maxi, mini = 1.4027,1.4008\n",
    "profit, loss = 20, 10\n",
    "volumen = 200\n",
    "\n",
    "fn.operacion(p_inicial=inicial, p_final=final, p_max=maxi,p_min=mini, tipo=tipo, t_profit=profit, s_loss=loss, fecha_hora=fecha)"
   ]
  },
  {
   "cell_type": "markdown",
   "metadata": {},
   "source": [
    "# <font color= sandybrown> <font size = 3 > VALIDACION VISUAL 3</font>"
   ]
  },
  {
   "cell_type": "code",
   "execution_count": 12,
   "metadata": {},
   "outputs": [
    {
     "data": {
      "text/html": [
       "<div>\n",
       "<style scoped>\n",
       "    .dataframe tbody tr th:only-of-type {\n",
       "        vertical-align: middle;\n",
       "    }\n",
       "\n",
       "    .dataframe tbody tr th {\n",
       "        vertical-align: top;\n",
       "    }\n",
       "\n",
       "    .dataframe thead th {\n",
       "        text-align: right;\n",
       "    }\n",
       "</style>\n",
       "<table border=\"1\" class=\"dataframe\">\n",
       "  <thead>\n",
       "    <tr style=\"text-align: right;\">\n",
       "      <th></th>\n",
       "      <th>Actual</th>\n",
       "      <th>Prevision</th>\n",
       "      <th>Anterior</th>\n",
       "    </tr>\n",
       "    <tr>\n",
       "      <th>Fecha y hora</th>\n",
       "      <th></th>\n",
       "      <th></th>\n",
       "      <th></th>\n",
       "    </tr>\n",
       "  </thead>\n",
       "  <tbody>\n",
       "    <tr>\n",
       "      <th>2020-09-23 10:30:00</th>\n",
       "      <td>55.1</td>\n",
       "      <td>56.0</td>\n",
       "      <td>58.8</td>\n",
       "    </tr>\n",
       "  </tbody>\n",
       "</table>\n",
       "</div>"
      ],
      "text/plain": [
       "                     Actual  Prevision  Anterior\n",
       "Fecha y hora                                    \n",
       "2020-09-23 10:30:00    55.1       56.0      58.8"
      ]
     },
     "execution_count": 12,
     "metadata": {},
     "output_type": "execute_result"
    }
   ],
   "source": [
    "FechaPMI=PMI['Actual']== 55.1\n",
    "PMI_EJ3 = PMI[FechaPMI]\n",
    "PMI_EJ3"
   ]
  },
  {
   "cell_type": "markdown",
   "metadata": {},
   "source": [
    "<img src=\"files/23 de septiembre 2020.PNG\" style=\"width:600px;\">"
   ]
  },
  {
   "cell_type": "markdown",
   "metadata": {},
   "source": [
    "En el día 23 de Septiembre del 2020 el indicador bajó a 55.1 y se tenia previsto llegar a 56.0"
   ]
  },
  {
   "cell_type": "code",
   "execution_count": 13,
   "metadata": {},
   "outputs": [
    {
     "data": {
      "text/html": [
       "<div>\n",
       "<style scoped>\n",
       "    .dataframe tbody tr th:only-of-type {\n",
       "        vertical-align: middle;\n",
       "    }\n",
       "\n",
       "    .dataframe tbody tr th {\n",
       "        vertical-align: top;\n",
       "    }\n",
       "\n",
       "    .dataframe thead th {\n",
       "        text-align: right;\n",
       "    }\n",
       "</style>\n",
       "<table border=\"1\" class=\"dataframe\">\n",
       "  <thead>\n",
       "    <tr style=\"text-align: right;\">\n",
       "      <th></th>\n",
       "      <th>Concepto</th>\n",
       "      <th>Valor</th>\n",
       "    </tr>\n",
       "  </thead>\n",
       "  <tbody>\n",
       "    <tr>\n",
       "      <th>0</th>\n",
       "      <td>DateTime</td>\n",
       "      <td>2020-12-03 11:30</td>\n",
       "    </tr>\n",
       "    <tr>\n",
       "      <th>1</th>\n",
       "      <td>Ventana</td>\n",
       "      <td>30 min</td>\n",
       "    </tr>\n",
       "    <tr>\n",
       "      <th>2</th>\n",
       "      <td>Precio inicial</td>\n",
       "      <td>1.11405</td>\n",
       "    </tr>\n",
       "    <tr>\n",
       "      <th>3</th>\n",
       "      <td>Precio Final</td>\n",
       "      <td>1.11294</td>\n",
       "    </tr>\n",
       "    <tr>\n",
       "      <th>4</th>\n",
       "      <td>Precio Max</td>\n",
       "      <td>1.11405</td>\n",
       "    </tr>\n",
       "    <tr>\n",
       "      <th>5</th>\n",
       "      <td>Precio Min</td>\n",
       "      <td>1.11254</td>\n",
       "    </tr>\n",
       "    <tr>\n",
       "      <th>6</th>\n",
       "      <td>Stop loss</td>\n",
       "      <td>1.11505</td>\n",
       "    </tr>\n",
       "    <tr>\n",
       "      <th>7</th>\n",
       "      <td>Take profit</td>\n",
       "      <td>1.11205</td>\n",
       "    </tr>\n",
       "    <tr>\n",
       "      <th>8</th>\n",
       "      <td>Volumen</td>\n",
       "      <td>897</td>\n",
       "    </tr>\n",
       "    <tr>\n",
       "      <th>9</th>\n",
       "      <td>Capital</td>\n",
       "      <td>1000 USD</td>\n",
       "    </tr>\n",
       "    <tr>\n",
       "      <th>10</th>\n",
       "      <td>Posicion</td>\n",
       "      <td>venta</td>\n",
       "    </tr>\n",
       "  </tbody>\n",
       "</table>\n",
       "</div>"
      ],
      "text/plain": [
       "          Concepto             Valor\n",
       "0         DateTime  2020-12-03 11:30\n",
       "1          Ventana            30 min\n",
       "2   Precio inicial           1.11405\n",
       "3     Precio Final           1.11294\n",
       "4       Precio Max           1.11405\n",
       "5       Precio Min           1.11254\n",
       "6        Stop loss           1.11505\n",
       "7      Take profit           1.11205\n",
       "8          Volumen               897\n",
       "9          Capital          1000 USD\n",
       "10        Posicion             venta"
      ]
     },
     "execution_count": 13,
     "metadata": {},
     "output_type": "execute_result"
    }
   ],
   "source": [
    "fecha, tipo = \"2020-09-23 10:30\", 'venta'\n",
    "inicial,final = 1.2718, 1.2738\n",
    "maxi, mini = 1.2739,1.2708\n",
    "profit, loss = 20, 10\n",
    "volumen = 200\n",
    "\n",
    "fn.operacion(p_inicial=inicial, p_final=final, p_max=maxi,p_min=mini, tipo=tipo, t_profit=profit, s_loss=loss, fecha_hora=fecha)"
   ]
  },
  {
   "cell_type": "markdown",
   "metadata": {},
   "source": [
    "# <font color= sandybrown> <font size = 3 > VALIDACION VISUAL 4</font>"
   ]
  },
  {
   "cell_type": "code",
   "execution_count": 14,
   "metadata": {},
   "outputs": [
    {
     "data": {
      "text/html": [
       "<div>\n",
       "<style scoped>\n",
       "    .dataframe tbody tr th:only-of-type {\n",
       "        vertical-align: middle;\n",
       "    }\n",
       "\n",
       "    .dataframe tbody tr th {\n",
       "        vertical-align: top;\n",
       "    }\n",
       "\n",
       "    .dataframe thead th {\n",
       "        text-align: right;\n",
       "    }\n",
       "</style>\n",
       "<table border=\"1\" class=\"dataframe\">\n",
       "  <thead>\n",
       "    <tr style=\"text-align: right;\">\n",
       "      <th></th>\n",
       "      <th>Actual</th>\n",
       "      <th>Prevision</th>\n",
       "      <th>Anterior</th>\n",
       "    </tr>\n",
       "    <tr>\n",
       "      <th>Fecha y hora</th>\n",
       "      <th></th>\n",
       "      <th></th>\n",
       "      <th></th>\n",
       "    </tr>\n",
       "  </thead>\n",
       "  <tbody>\n",
       "    <tr>\n",
       "      <th>2021-02-03 11:30:00</th>\n",
       "      <td>39.5</td>\n",
       "      <td>38.8</td>\n",
       "      <td>38.8</td>\n",
       "    </tr>\n",
       "  </tbody>\n",
       "</table>\n",
       "</div>"
      ],
      "text/plain": [
       "                     Actual  Prevision  Anterior\n",
       "Fecha y hora                                    \n",
       "2021-02-03 11:30:00    39.5       38.8      38.8"
      ]
     },
     "execution_count": 14,
     "metadata": {},
     "output_type": "execute_result"
    }
   ],
   "source": [
    "FechaPMI=PMI['Actual']== 39.5\n",
    "PMI_EJ4 = PMI[FechaPMI]\n",
    "PMI_EJ4"
   ]
  },
  {
   "cell_type": "markdown",
   "metadata": {},
   "source": [
    "<img src=\"files/3 de febrero de 2021.PNG\" style=\"width:600px;\">"
   ]
  },
  {
   "cell_type": "markdown",
   "metadata": {},
   "source": [
    "En el día 3 de febrero del 2021 el indicador se ubico en 39.5 por lo que supero las expectativas que se tenian ya que se creía que llegaría a 38.8\n"
   ]
  },
  {
   "cell_type": "code",
   "execution_count": 15,
   "metadata": {},
   "outputs": [
    {
     "data": {
      "text/html": [
       "<div>\n",
       "<style scoped>\n",
       "    .dataframe tbody tr th:only-of-type {\n",
       "        vertical-align: middle;\n",
       "    }\n",
       "\n",
       "    .dataframe tbody tr th {\n",
       "        vertical-align: top;\n",
       "    }\n",
       "\n",
       "    .dataframe thead th {\n",
       "        text-align: right;\n",
       "    }\n",
       "</style>\n",
       "<table border=\"1\" class=\"dataframe\">\n",
       "  <thead>\n",
       "    <tr style=\"text-align: right;\">\n",
       "      <th></th>\n",
       "      <th>Concepto</th>\n",
       "      <th>Valor</th>\n",
       "    </tr>\n",
       "  </thead>\n",
       "  <tbody>\n",
       "    <tr>\n",
       "      <th>0</th>\n",
       "      <td>DateTime</td>\n",
       "      <td>2020-12-03 11:30</td>\n",
       "    </tr>\n",
       "    <tr>\n",
       "      <th>1</th>\n",
       "      <td>Ventana</td>\n",
       "      <td>30 min</td>\n",
       "    </tr>\n",
       "    <tr>\n",
       "      <th>2</th>\n",
       "      <td>Precio inicial</td>\n",
       "      <td>1.11405</td>\n",
       "    </tr>\n",
       "    <tr>\n",
       "      <th>3</th>\n",
       "      <td>Precio Final</td>\n",
       "      <td>1.11294</td>\n",
       "    </tr>\n",
       "    <tr>\n",
       "      <th>4</th>\n",
       "      <td>Precio Max</td>\n",
       "      <td>1.11405</td>\n",
       "    </tr>\n",
       "    <tr>\n",
       "      <th>5</th>\n",
       "      <td>Precio Min</td>\n",
       "      <td>1.11254</td>\n",
       "    </tr>\n",
       "    <tr>\n",
       "      <th>6</th>\n",
       "      <td>Stop loss</td>\n",
       "      <td>1.11505</td>\n",
       "    </tr>\n",
       "    <tr>\n",
       "      <th>7</th>\n",
       "      <td>Take profit</td>\n",
       "      <td>1.11205</td>\n",
       "    </tr>\n",
       "    <tr>\n",
       "      <th>8</th>\n",
       "      <td>Volumen</td>\n",
       "      <td>897</td>\n",
       "    </tr>\n",
       "    <tr>\n",
       "      <th>9</th>\n",
       "      <td>Capital</td>\n",
       "      <td>1000 USD</td>\n",
       "    </tr>\n",
       "    <tr>\n",
       "      <th>10</th>\n",
       "      <td>Posicion</td>\n",
       "      <td>venta</td>\n",
       "    </tr>\n",
       "  </tbody>\n",
       "</table>\n",
       "</div>"
      ],
      "text/plain": [
       "          Concepto             Valor\n",
       "0         DateTime  2020-12-03 11:30\n",
       "1          Ventana            30 min\n",
       "2   Precio inicial           1.11405\n",
       "3     Precio Final           1.11294\n",
       "4       Precio Max           1.11405\n",
       "5       Precio Min           1.11254\n",
       "6        Stop loss           1.11505\n",
       "7      Take profit           1.11205\n",
       "8          Volumen               897\n",
       "9          Capital          1000 USD\n",
       "10        Posicion             venta"
      ]
     },
     "execution_count": 15,
     "metadata": {},
     "output_type": "execute_result"
    }
   ],
   "source": [
    "fecha, tipo = \"2020-02-03 11:30\", 'venta'\n",
    "inicial,final = 1.3013, 1.3004\n",
    "maxi, mini = 1.3016,1.3000\n",
    "profit, loss = 20, 10\n",
    "volumen = 200\n",
    "\n",
    "fn.operacion(p_inicial=inicial, p_final=final, p_max=maxi,p_min=mini, tipo=tipo, t_profit=profit, s_loss=loss, fecha_hora=fecha)"
   ]
  },
  {
   "cell_type": "markdown",
   "metadata": {},
   "source": [
    "# <font color= sandybrown> <font size = 3 > VALIDACION VISUAL 5</font>"
   ]
  },
  {
   "cell_type": "code",
   "execution_count": 16,
   "metadata": {},
   "outputs": [
    {
     "data": {
      "text/html": [
       "<div>\n",
       "<style scoped>\n",
       "    .dataframe tbody tr th:only-of-type {\n",
       "        vertical-align: middle;\n",
       "    }\n",
       "\n",
       "    .dataframe tbody tr th {\n",
       "        vertical-align: top;\n",
       "    }\n",
       "\n",
       "    .dataframe thead th {\n",
       "        text-align: right;\n",
       "    }\n",
       "</style>\n",
       "<table border=\"1\" class=\"dataframe\">\n",
       "  <thead>\n",
       "    <tr style=\"text-align: right;\">\n",
       "      <th></th>\n",
       "      <th>Actual</th>\n",
       "      <th>Prevision</th>\n",
       "      <th>Anterior</th>\n",
       "    </tr>\n",
       "    <tr>\n",
       "      <th>Fecha y hora</th>\n",
       "      <th></th>\n",
       "      <th></th>\n",
       "      <th></th>\n",
       "    </tr>\n",
       "  </thead>\n",
       "  <tbody>\n",
       "    <tr>\n",
       "      <th>2020-04-03 10:30:00</th>\n",
       "      <td>34.5</td>\n",
       "      <td>34.8</td>\n",
       "      <td>53.2</td>\n",
       "    </tr>\n",
       "  </tbody>\n",
       "</table>\n",
       "</div>"
      ],
      "text/plain": [
       "                     Actual  Prevision  Anterior\n",
       "Fecha y hora                                    \n",
       "2020-04-03 10:30:00    34.5       34.8      53.2"
      ]
     },
     "execution_count": 16,
     "metadata": {},
     "output_type": "execute_result"
    }
   ],
   "source": [
    "FechaPMI=PMI['Actual']== 34.5\n",
    "PMI_EJ5 = PMI[FechaPMI]\n",
    "PMI_EJ5"
   ]
  },
  {
   "cell_type": "markdown",
   "metadata": {},
   "source": [
    "<img src=\"files/3-abril-2020.PNG\" style=\"width:600px;\">"
   ]
  },
  {
   "cell_type": "markdown",
   "metadata": {},
   "source": [
    "En el día 3 de Abril del 2020 el indicador bajo .3 y llegó a 34.5 y se tenia previsto llegar a 34.8"
   ]
  },
  {
   "cell_type": "code",
   "execution_count": 17,
   "metadata": {},
   "outputs": [
    {
     "data": {
      "text/html": [
       "<div>\n",
       "<style scoped>\n",
       "    .dataframe tbody tr th:only-of-type {\n",
       "        vertical-align: middle;\n",
       "    }\n",
       "\n",
       "    .dataframe tbody tr th {\n",
       "        vertical-align: top;\n",
       "    }\n",
       "\n",
       "    .dataframe thead th {\n",
       "        text-align: right;\n",
       "    }\n",
       "</style>\n",
       "<table border=\"1\" class=\"dataframe\">\n",
       "  <thead>\n",
       "    <tr style=\"text-align: right;\">\n",
       "      <th></th>\n",
       "      <th>Concepto</th>\n",
       "      <th>Valor</th>\n",
       "    </tr>\n",
       "  </thead>\n",
       "  <tbody>\n",
       "    <tr>\n",
       "      <th>0</th>\n",
       "      <td>DateTime</td>\n",
       "      <td>2020-12-03 11:30</td>\n",
       "    </tr>\n",
       "    <tr>\n",
       "      <th>1</th>\n",
       "      <td>Ventana</td>\n",
       "      <td>30 min</td>\n",
       "    </tr>\n",
       "    <tr>\n",
       "      <th>2</th>\n",
       "      <td>Precio inicial</td>\n",
       "      <td>1.11405</td>\n",
       "    </tr>\n",
       "    <tr>\n",
       "      <th>3</th>\n",
       "      <td>Precio Final</td>\n",
       "      <td>1.11294</td>\n",
       "    </tr>\n",
       "    <tr>\n",
       "      <th>4</th>\n",
       "      <td>Precio Max</td>\n",
       "      <td>1.11405</td>\n",
       "    </tr>\n",
       "    <tr>\n",
       "      <th>5</th>\n",
       "      <td>Precio Min</td>\n",
       "      <td>1.11254</td>\n",
       "    </tr>\n",
       "    <tr>\n",
       "      <th>6</th>\n",
       "      <td>Stop loss</td>\n",
       "      <td>1.11505</td>\n",
       "    </tr>\n",
       "    <tr>\n",
       "      <th>7</th>\n",
       "      <td>Take profit</td>\n",
       "      <td>1.11205</td>\n",
       "    </tr>\n",
       "    <tr>\n",
       "      <th>8</th>\n",
       "      <td>Volumen</td>\n",
       "      <td>897</td>\n",
       "    </tr>\n",
       "    <tr>\n",
       "      <th>9</th>\n",
       "      <td>Capital</td>\n",
       "      <td>1000 USD</td>\n",
       "    </tr>\n",
       "    <tr>\n",
       "      <th>10</th>\n",
       "      <td>Posicion</td>\n",
       "      <td>venta</td>\n",
       "    </tr>\n",
       "  </tbody>\n",
       "</table>\n",
       "</div>"
      ],
      "text/plain": [
       "          Concepto             Valor\n",
       "0         DateTime  2020-12-03 11:30\n",
       "1          Ventana            30 min\n",
       "2   Precio inicial           1.11405\n",
       "3     Precio Final           1.11294\n",
       "4       Precio Max           1.11405\n",
       "5       Precio Min           1.11254\n",
       "6        Stop loss           1.11505\n",
       "7      Take profit           1.11205\n",
       "8          Volumen               897\n",
       "9          Capital          1000 USD\n",
       "10        Posicion             venta"
      ]
     },
     "execution_count": 17,
     "metadata": {},
     "output_type": "execute_result"
    }
   ],
   "source": [
    "fecha, tipo = \"2020-04-03 10:30\", 'venta'\n",
    "inicial,final = 1.2257, 1.2223\n",
    "maxi, mini = 1.2257,1.2207\n",
    "profit, loss = 20, 10\n",
    "volumen = 200\n",
    "\n",
    "fn.operacion(p_inicial=inicial, p_final=final, p_max=maxi,p_min=mini, tipo=tipo, t_profit=profit, s_loss=loss, fecha_hora=fecha)"
   ]
  },
  {
   "cell_type": "markdown",
   "metadata": {},
   "source": [
    "# <font color= orange> <font size = 4 > Aspectos estadísticos</font>"
   ]
  },
  {
   "cell_type": "markdown",
   "metadata": {},
   "source": [
    "Con los datos del indicador escogido por el equipo se buscara la serie de tiempo del valor actual y caracterización econométrica:"
   ]
  },
  {
   "cell_type": "markdown",
   "metadata": {},
   "source": [
    "#### <font color= a05000 > PRIMERO REALIZAMOS UNA GRÁFICA DEL HISTÓRICO DESCARGADO PREVIAMENTE DEL IPC, PARA VISUALIZAR LOS DATOS"
   ]
  },
  {
   "cell_type": "code",
   "execution_count": 18,
   "metadata": {},
   "outputs": [
    {
     "data": {
      "image/png": "[encoded data removed]",
      "text/plain": [
       "<Figure size 720x360 with 1 Axes>"
      ]
     },
     "metadata": {
      "needs_background": "light"
     },
     "output_type": "display_data"
    }
   ],
   "source": [
    "vs.f_grafica_hist(PMI)"
   ]
  },
  {
   "cell_type": "markdown",
   "metadata": {},
   "source": [
    "#### <font color= a05000 > A LOS DATOS LE REALIZAMOS UNA AUTOCORRELACIÓN Y UNA CORRELACIÓN PARCIAL, EN LAS CUALES PODEMOS OBSERVAR QUE TIENE UN COMPONENTE DE AUTOCORRELACIÓN DE 5 Y UN COMPONENTE DE AUTOCORRELACIÓN PARCIAL IGUAL A 1"
   ]
  },
  {
   "cell_type": "code",
   "execution_count": 19,
   "metadata": {},
   "outputs": [
    {
     "name": "stderr",
     "output_type": "stream",
     "text": [
      "C:\\Users\\mamarta\\Anaconda3\\lib\\site-packages\\statsmodels\\regression\\linear_model.py:1406: RuntimeWarning: invalid value encountered in sqrt\n",
      "  return rho, np.sqrt(sigmasq)\n"
     ]
    },
    {
     "data": {
      "text/plain": [
       "(<Figure size 432x288 with 1 Axes>, <Figure size 432x288 with 1 Axes>)"
      ]
     },
     "execution_count": 19,
     "metadata": {},
     "output_type": "execute_result"
    },
    {
     "data": {
      "image/png": "[encoded data removed]",
      "text/plain": [
       "<Figure size 432x288 with 1 Axes>"
      ]
     },
     "metadata": {
      "needs_background": "light"
     },
     "output_type": "display_data"
    },
    {
     "data": {
      "image/png": "[encoded data removed]",
      "text/plain": [
       "<Figure size 432x288 with 1 Axes>"
      ]
     },
     "metadata": {
      "needs_background": "light"
     },
     "output_type": "display_data"
    }
   ],
   "source": [
    "vs.f_autocorr(PMI[\"Actual\"])"
   ]
  },
  {
   "cell_type": "markdown",
   "metadata": {},
   "source": [
    "#### <font color= a05000 > SE HIZO UNA PRUEBA DE HETEROCEDASTICIDAD PARA DETERMINAR ....."
   ]
  },
  {
   "cell_type": "code",
   "execution_count": null,
   "metadata": {},
   "outputs": [],
   "source": []
  },
  {
   "cell_type": "markdown",
   "metadata": {},
   "source": [
    "#### <font color= a05000 > SE REALIZA UNA PRUEBA DE NORMALIDAD A LOS DATOS PARA VER SI CONTAMOS CON UNA DISTRIBUCIÓN NORMAL Y PODEMOS VER YA QUE NOS DA UN P-VALUE MAYOR A 0.5 POR LO TANTO NO ES NORMAL "
   ]
  },
  {
   "cell_type": "code",
   "execution_count": 20,
   "metadata": {},
   "outputs": [
    {
     "name": "stdout",
     "output_type": "stream",
     "text": [
      "No es normal\n"
     ]
    }
   ],
   "source": [
    "vs.f_dist_normal(PMI[\"Actual\"])"
   ]
  },
  {
   "cell_type": "markdown",
   "metadata": {},
   "source": [
    "#### <font color= a05000 > VEMOS SI LA SERIE PRESENTA UNA ESCIONALIDAD"
   ]
  },
  {
   "cell_type": "code",
   "execution_count": 21,
   "metadata": {},
   "outputs": [
    {
     "data": {
      "image/png": "[encoded data removed]",
      "text/plain": [
       "<Figure size 1152x432 with 4 Axes>"
      ]
     },
     "metadata": {
      "needs_background": "light"
     },
     "output_type": "display_data"
    }
   ],
   "source": [
    "vs.f_estacionalidad(PMI[\"Actual\"])"
   ]
  },
  {
   "cell_type": "markdown",
   "metadata": {},
   "source": [
    "#### <font color= a05000 > EVALUAMOS SI LA SERIE ES ESTACIONARIA MEDIANTE UN TEST DE DICKEY-FULLER"
   ]
  },
  {
   "cell_type": "code",
   "execution_count": 22,
   "metadata": {},
   "outputs": [
    {
     "name": "stdout",
     "output_type": "stream",
     "text": [
      "No es estacionaria\n"
     ]
    }
   ],
   "source": [
    "vs.f_estacionariedad(PMI[\"Actual\"])"
   ]
  },
  {
   "cell_type": "markdown",
   "metadata": {},
   "source": [
    "#### <font color= a05000 > HICIMOS UNA GRÁFICA BOX PLOT PARA VER SI EXITÍAN DATOS ATÍPICOS Y DETECTARLOS"
   ]
  },
  {
   "cell_type": "code",
   "execution_count": 23,
   "metadata": {},
   "outputs": [
    {
     "data": {
      "image/png": "[encoded data removed]",
      "text/plain": [
       "<Figure size 1152x432 with 1 Axes>"
      ]
     },
     "metadata": {
      "needs_background": "light"
     },
     "output_type": "display_data"
    }
   ],
   "source": [
    "vs.f_atipicos(PMI[\"Actual\"])"
   ]
  },
  {
   "cell_type": "markdown",
   "metadata": {},
   "source": [
    "CONCLUSION ASPECTOS ESTADISTICOS....."
   ]
  },
  {
   "cell_type": "markdown",
   "metadata": {},
   "source": [
    "# <font color= orange> <font size = 4 > Aspectos computacionales</font>"
   ]
  },
  {
   "cell_type": "markdown",
   "metadata": {},
   "source": [
    "#### <font color= a05000 > SE DESCARGARON LOS PRECIOS HISTORICOS"
   ]
  },
  {
   "cell_type": "markdown",
   "metadata": {},
   "source": [
    "Se descargaron los precios del GBD/USD 30 minutos antes y después de que se publicara el indicador PMI."
   ]
  },
  {
   "cell_type": "code",
   "execution_count": 24,
   "metadata": {},
   "outputs": [
    {
     "data": {
      "text/html": [
       "<div>\n",
       "<style scoped>\n",
       "    .dataframe tbody tr th:only-of-type {\n",
       "        vertical-align: middle;\n",
       "    }\n",
       "\n",
       "    .dataframe tbody tr th {\n",
       "        vertical-align: top;\n",
       "    }\n",
       "\n",
       "    .dataframe thead th {\n",
       "        text-align: right;\n",
       "    }\n",
       "</style>\n",
       "<table border=\"1\" class=\"dataframe\">\n",
       "  <thead>\n",
       "    <tr style=\"text-align: right;\">\n",
       "      <th></th>\n",
       "      <th>Regla</th>\n",
       "    </tr>\n",
       "    <tr>\n",
       "      <th>Escenario</th>\n",
       "      <th></th>\n",
       "    </tr>\n",
       "  </thead>\n",
       "  <tbody>\n",
       "    <tr>\n",
       "      <th>A</th>\n",
       "      <td>Actual &gt;= Consensus &gt;= Previous</td>\n",
       "    </tr>\n",
       "    <tr>\n",
       "      <th>B</th>\n",
       "      <td>Actual &gt;= Consensus &lt; Previous</td>\n",
       "    </tr>\n",
       "    <tr>\n",
       "      <th>C</th>\n",
       "      <td>Actual &lt; Consensus &gt;= Previous</td>\n",
       "    </tr>\n",
       "    <tr>\n",
       "      <th>D</th>\n",
       "      <td>Actual &lt;Consensus &lt; Previous</td>\n",
       "    </tr>\n",
       "  </tbody>\n",
       "</table>\n",
       "</div>"
      ],
      "text/plain": [
       "                                     Regla\n",
       "Escenario                                 \n",
       "A          Actual >= Consensus >= Previous\n",
       "B           Actual >= Consensus < Previous\n",
       "C           Actual < Consensus >= Previous\n",
       "D             Actual <Consensus < Previous"
      ]
     },
     "execution_count": 24,
     "metadata": {},
     "output_type": "execute_result"
    }
   ],
   "source": [
    "fn.escenarios_tabla().drop(['Posicion', 'Take profit (pips)', 'Stop loss (pips)', 'Capital (USD)'], axis=1)"
   ]
  },
  {
   "cell_type": "markdown",
   "metadata": {},
   "source": [
    "#### <font color= a05000 >  HICIMOS LA CLASIFICACION DE ESCENARIOS DE OCURRECIA"
   ]
  },
  {
   "cell_type": "code",
   "execution_count": 4,
   "metadata": {},
   "outputs": [
    {
     "ename": "SyntaxError",
     "evalue": "invalid syntax (<ipython-input-4-e1afa2e5805b>, line 1)",
     "output_type": "error",
     "traceback": [
      "\u001b[0;36m  File \u001b[0;32m\"<ipython-input-4-e1afa2e5805b>\"\u001b[0;36m, line \u001b[0;32m1\u001b[0m\n\u001b[0;31m    <img src=\"files/CLASIFI.PNG\" style=\"width:600px;\">\u001b[0m\n\u001b[0m    ^\u001b[0m\n\u001b[0;31mSyntaxError\u001b[0m\u001b[0;31m:\u001b[0m invalid syntax\n"
     ]
    }
   ],
   "source": [
    "<img src=\"files/CLASIFI.png\" style=\"width:600px;\">"
   ]
  },
  {
   "cell_type": "code",
   "execution_count": 25,
   "metadata": {
    "scrolled": true
   },
   "outputs": [
    {
     "data": {
      "text/html": [
       "<div>\n",
       "<style scoped>\n",
       "    .dataframe tbody tr th:only-of-type {\n",
       "        vertical-align: middle;\n",
       "    }\n",
       "\n",
       "    .dataframe tbody tr th {\n",
       "        vertical-align: top;\n",
       "    }\n",
       "\n",
       "    .dataframe thead th {\n",
       "        text-align: right;\n",
       "    }\n",
       "</style>\n",
       "<table border=\"1\" class=\"dataframe\">\n",
       "  <thead>\n",
       "    <tr style=\"text-align: right;\">\n",
       "      <th></th>\n",
       "      <th>Actual</th>\n",
       "      <th>Prevision</th>\n",
       "      <th>Anterior</th>\n",
       "      <th>Escenario</th>\n",
       "    </tr>\n",
       "    <tr>\n",
       "      <th>Fecha y hora</th>\n",
       "      <th></th>\n",
       "      <th></th>\n",
       "      <th></th>\n",
       "      <th></th>\n",
       "    </tr>\n",
       "  </thead>\n",
       "  <tbody>\n",
       "    <tr>\n",
       "      <th>2021-04-07 10:30:00</th>\n",
       "      <td>56.3</td>\n",
       "      <td>56.8</td>\n",
       "      <td>49.5</td>\n",
       "      <td>C</td>\n",
       "    </tr>\n",
       "    <tr>\n",
       "      <th>2021-03-24 11:30:00</th>\n",
       "      <td>56.8</td>\n",
       "      <td>51.0</td>\n",
       "      <td>49.5</td>\n",
       "      <td>A</td>\n",
       "    </tr>\n",
       "    <tr>\n",
       "      <th>2021-03-03 11:30:00</th>\n",
       "      <td>49.5</td>\n",
       "      <td>49.7</td>\n",
       "      <td>39.5</td>\n",
       "      <td>C</td>\n",
       "    </tr>\n",
       "    <tr>\n",
       "      <th>2021-02-19 11:30:00</th>\n",
       "      <td>49.7</td>\n",
       "      <td>41.0</td>\n",
       "      <td>39.5</td>\n",
       "      <td>A</td>\n",
       "    </tr>\n",
       "    <tr>\n",
       "      <th>2021-02-03 11:30:00</th>\n",
       "      <td>39.5</td>\n",
       "      <td>38.8</td>\n",
       "      <td>38.8</td>\n",
       "      <td>A</td>\n",
       "    </tr>\n",
       "  </tbody>\n",
       "</table>\n",
       "</div>"
      ],
      "text/plain": [
       "                     Actual  Prevision  Anterior Escenario\n",
       "Fecha y hora                                              \n",
       "2021-04-07 10:30:00    56.3       56.8      49.5         C\n",
       "2021-03-24 11:30:00    56.8       51.0      49.5         A\n",
       "2021-03-03 11:30:00    49.5       49.7      39.5         C\n",
       "2021-02-19 11:30:00    49.7       41.0      39.5         A\n",
       "2021-02-03 11:30:00    39.5       38.8      38.8         A"
      ]
     },
     "execution_count": 25,
     "metadata": {},
     "output_type": "execute_result"
    }
   ],
   "source": [
    "data = fn.f_escenario(PMI)\n",
    "data.head()"
   ]
  },
  {
   "cell_type": "markdown",
   "metadata": {},
   "source": [
    "#### <font color= a05000 > SE CALCULARON LAS SIGUIENTES 4 METRICAS:"
   ]
  },
  {
   "cell_type": "markdown",
   "metadata": {},
   "source": [
    "1.- (Dirección)\n",
    "\n",
    "2.- (Pips Alcistas)\n",
    "\n",
    "3.- (Pips Bajistas)\n",
    "\n",
    "4.- (Volatilidad)"
   ]
  },
  {
   "cell_type": "code",
   "execution_count": 26,
   "metadata": {},
   "outputs": [
    {
     "data": {
      "text/html": [
       "<div>\n",
       "<style scoped>\n",
       "    .dataframe tbody tr th:only-of-type {\n",
       "        vertical-align: middle;\n",
       "    }\n",
       "\n",
       "    .dataframe tbody tr th {\n",
       "        vertical-align: top;\n",
       "    }\n",
       "\n",
       "    .dataframe thead th {\n",
       "        text-align: right;\n",
       "    }\n",
       "</style>\n",
       "<table border=\"1\" class=\"dataframe\">\n",
       "  <thead>\n",
       "    <tr style=\"text-align: right;\">\n",
       "      <th></th>\n",
       "      <th>Actual</th>\n",
       "      <th>Prevision</th>\n",
       "      <th>Anterior</th>\n",
       "      <th>Escenario</th>\n",
       "      <th>Direccion</th>\n",
       "      <th>Pips Alcistas</th>\n",
       "      <th>Pips Bajistas</th>\n",
       "      <th>Volatilidad</th>\n",
       "    </tr>\n",
       "    <tr>\n",
       "      <th>Fecha y hora</th>\n",
       "      <th></th>\n",
       "      <th></th>\n",
       "      <th></th>\n",
       "      <th></th>\n",
       "      <th></th>\n",
       "      <th></th>\n",
       "      <th></th>\n",
       "      <th></th>\n",
       "    </tr>\n",
       "  </thead>\n",
       "  <tbody>\n",
       "    <tr>\n",
       "      <th>2021-04-07 10:30:00</th>\n",
       "      <td>56.3</td>\n",
       "      <td>56.8</td>\n",
       "      <td>49.5</td>\n",
       "      <td>C</td>\n",
       "      <td>-1</td>\n",
       "      <td>-0.06502</td>\n",
       "      <td>0.06969</td>\n",
       "      <td>0.00595</td>\n",
       "    </tr>\n",
       "    <tr>\n",
       "      <th>2021-03-24 11:30:00</th>\n",
       "      <td>56.8</td>\n",
       "      <td>51.0</td>\n",
       "      <td>49.5</td>\n",
       "      <td>A</td>\n",
       "      <td>-1</td>\n",
       "      <td>-0.06069</td>\n",
       "      <td>0.06536</td>\n",
       "      <td>0.00144</td>\n",
       "    </tr>\n",
       "    <tr>\n",
       "      <th>2021-03-03 11:30:00</th>\n",
       "      <td>49.5</td>\n",
       "      <td>49.7</td>\n",
       "      <td>39.5</td>\n",
       "      <td>C</td>\n",
       "      <td>-1</td>\n",
       "      <td>-0.08661</td>\n",
       "      <td>0.09128</td>\n",
       "      <td>0.00173</td>\n",
       "    </tr>\n",
       "    <tr>\n",
       "      <th>2021-02-19 11:30:00</th>\n",
       "      <td>49.7</td>\n",
       "      <td>41.0</td>\n",
       "      <td>39.5</td>\n",
       "      <td>A</td>\n",
       "      <td>-1</td>\n",
       "      <td>-0.08973</td>\n",
       "      <td>0.09440</td>\n",
       "      <td>0.00175</td>\n",
       "    </tr>\n",
       "    <tr>\n",
       "      <th>2021-02-03 11:30:00</th>\n",
       "      <td>39.5</td>\n",
       "      <td>38.8</td>\n",
       "      <td>38.8</td>\n",
       "      <td>A</td>\n",
       "      <td>-1</td>\n",
       "      <td>-0.05290</td>\n",
       "      <td>0.05757</td>\n",
       "      <td>0.00155</td>\n",
       "    </tr>\n",
       "  </tbody>\n",
       "</table>\n",
       "</div>"
      ],
      "text/plain": [
       "                     Actual  Prevision  Anterior Escenario  Direccion  \\\n",
       "Fecha y hora                                                            \n",
       "2021-04-07 10:30:00    56.3       56.8      49.5         C         -1   \n",
       "2021-03-24 11:30:00    56.8       51.0      49.5         A         -1   \n",
       "2021-03-03 11:30:00    49.5       49.7      39.5         C         -1   \n",
       "2021-02-19 11:30:00    49.7       41.0      39.5         A         -1   \n",
       "2021-02-03 11:30:00    39.5       38.8      38.8         A         -1   \n",
       "\n",
       "                     Pips Alcistas  Pips Bajistas  Volatilidad  \n",
       "Fecha y hora                                                    \n",
       "2021-04-07 10:30:00       -0.06502        0.06969      0.00595  \n",
       "2021-03-24 11:30:00       -0.06069        0.06536      0.00144  \n",
       "2021-03-03 11:30:00       -0.08661        0.09128      0.00173  \n",
       "2021-02-19 11:30:00       -0.08973        0.09440      0.00175  \n",
       "2021-02-03 11:30:00       -0.05290        0.05757      0.00155  "
      ]
     },
     "execution_count": 26,
     "metadata": {},
     "output_type": "execute_result"
    }
   ],
   "source": [
    "metrica=fn.f_metricas(PMI,PRECIOSGBP)\n",
    "metrica.head()"
   ]
  },
  {
   "cell_type": "code",
   "execution_count": 27,
   "metadata": {},
   "outputs": [
    {
     "data": {
      "text/html": [
       "<div>\n",
       "<style scoped>\n",
       "    .dataframe tbody tr th:only-of-type {\n",
       "        vertical-align: middle;\n",
       "    }\n",
       "\n",
       "    .dataframe tbody tr th {\n",
       "        vertical-align: top;\n",
       "    }\n",
       "\n",
       "    .dataframe thead th {\n",
       "        text-align: right;\n",
       "    }\n",
       "</style>\n",
       "<table border=\"1\" class=\"dataframe\">\n",
       "  <thead>\n",
       "    <tr style=\"text-align: right;\">\n",
       "      <th></th>\n",
       "      <th>Actual</th>\n",
       "      <th>Prevision</th>\n",
       "      <th>Anterior</th>\n",
       "      <th>Escenario</th>\n",
       "      <th>Direccion</th>\n",
       "      <th>Pips Alcistas</th>\n",
       "      <th>Pips Bajistas</th>\n",
       "      <th>Volatilidad</th>\n",
       "    </tr>\n",
       "    <tr>\n",
       "      <th>Fecha y hora</th>\n",
       "      <th></th>\n",
       "      <th></th>\n",
       "      <th></th>\n",
       "      <th></th>\n",
       "      <th></th>\n",
       "      <th></th>\n",
       "      <th></th>\n",
       "      <th></th>\n",
       "    </tr>\n",
       "  </thead>\n",
       "  <tbody>\n",
       "    <tr>\n",
       "      <th>2019-09-04 10:30:00</th>\n",
       "      <td>50.6</td>\n",
       "      <td>51.0</td>\n",
       "      <td>51.4</td>\n",
       "      <td>D</td>\n",
       "      <td>1</td>\n",
       "      <td>0.09313</td>\n",
       "      <td>-0.08846</td>\n",
       "      <td>0.00372</td>\n",
       "    </tr>\n",
       "    <tr>\n",
       "      <th>2019-08-05 10:30:00</th>\n",
       "      <td>51.4</td>\n",
       "      <td>50.4</td>\n",
       "      <td>50.2</td>\n",
       "      <td>A</td>\n",
       "      <td>1</td>\n",
       "      <td>0.09543</td>\n",
       "      <td>-0.09076</td>\n",
       "      <td>0.00317</td>\n",
       "    </tr>\n",
       "    <tr>\n",
       "      <th>2019-07-03 10:30:00</th>\n",
       "      <td>50.2</td>\n",
       "      <td>51.0</td>\n",
       "      <td>51.0</td>\n",
       "      <td>C</td>\n",
       "      <td>1</td>\n",
       "      <td>0.05466</td>\n",
       "      <td>-0.04999</td>\n",
       "      <td>0.00271</td>\n",
       "    </tr>\n",
       "    <tr>\n",
       "      <th>2019-06-05 10:30:00</th>\n",
       "      <td>51.0</td>\n",
       "      <td>50.6</td>\n",
       "      <td>50.4</td>\n",
       "      <td>A</td>\n",
       "      <td>1</td>\n",
       "      <td>0.03942</td>\n",
       "      <td>-0.03475</td>\n",
       "      <td>0.00226</td>\n",
       "    </tr>\n",
       "    <tr>\n",
       "      <th>2019-05-03 10:30:00</th>\n",
       "      <td>50.4</td>\n",
       "      <td>50.4</td>\n",
       "      <td>48.9</td>\n",
       "      <td>A</td>\n",
       "      <td>1</td>\n",
       "      <td>0.00424</td>\n",
       "      <td>0.00043</td>\n",
       "      <td>0.00708</td>\n",
       "    </tr>\n",
       "  </tbody>\n",
       "</table>\n",
       "</div>"
      ],
      "text/plain": [
       "                     Actual  Prevision  Anterior Escenario  Direccion  \\\n",
       "Fecha y hora                                                            \n",
       "2019-09-04 10:30:00    50.6       51.0      51.4         D          1   \n",
       "2019-08-05 10:30:00    51.4       50.4      50.2         A          1   \n",
       "2019-07-03 10:30:00    50.2       51.0      51.0         C          1   \n",
       "2019-06-05 10:30:00    51.0       50.6      50.4         A          1   \n",
       "2019-05-03 10:30:00    50.4       50.4      48.9         A          1   \n",
       "\n",
       "                     Pips Alcistas  Pips Bajistas  Volatilidad  \n",
       "Fecha y hora                                                    \n",
       "2019-09-04 10:30:00        0.09313       -0.08846      0.00372  \n",
       "2019-08-05 10:30:00        0.09543       -0.09076      0.00317  \n",
       "2019-07-03 10:30:00        0.05466       -0.04999      0.00271  \n",
       "2019-06-05 10:30:00        0.03942       -0.03475      0.00226  \n",
       "2019-05-03 10:30:00        0.00424        0.00043      0.00708  "
      ]
     },
     "execution_count": 27,
     "metadata": {},
     "output_type": "execute_result"
    }
   ],
   "source": [
    "metrica.tail()"
   ]
  },
  {
   "cell_type": "markdown",
   "metadata": {},
   "source": [
    "# <font color= darkgoldenrod> <font size = 5 > Etapa 3 - Programación</font>"
   ]
  },
  {
   "cell_type": "code",
   "execution_count": null,
   "metadata": {},
   "outputs": [],
   "source": []
  },
  {
   "cell_type": "code",
   "execution_count": null,
   "metadata": {},
   "outputs": [],
   "source": []
  },
  {
   "cell_type": "markdown",
   "metadata": {},
   "source": [
    "# <font color= darkgoldenrod> <font size = 5 > Etapa 4 - Optimización y Backtest</font>"
   ]
  },
  {
   "cell_type": "markdown",
   "metadata": {},
   "source": [
    "1. Capital inicial: 100000\n",
    "2. Riesgo máximo por operación (pérdida máximo): 1,000 usd\n",
    "3. Divide los datos de la siguiente manera:  \n",
    "- Periodo de entrenamiento: 01/ene/2018 - 01/ene/2019 \\n\n",
    "- Periodo de prueba: 01/Feb/2019 - 01/Feb/2020\n"
   ]
  },
  {
   "cell_type": "markdown",
   "metadata": {},
   "source": [
    "#### <font color= a05000 > SE REALIZA UN NUEVO DATA FRAME REACOMODANDO LO ANTERIOR"
   ]
  },
  {
   "cell_type": "code",
   "execution_count": null,
   "metadata": {},
   "outputs": [],
   "source": [
    "df_escenarios = f_escenarios(pmi)\n",
    "df_escenarios.head()"
   ]
  },
  {
   "cell_type": "markdown",
   "metadata": {},
   "source": [
    "#### <font color= a05000 >"
   ]
  },
  {
   "cell_type": "code",
   "execution_count": null,
   "metadata": {},
   "outputs": [],
   "source": [
    "operacion= ['venta', 'venta', 'compra','compra']\n",
    "sl= [10,10,5,5]\n",
    "tp=[20,20,10,10]\n",
    "volumen= [500000, 500000, 500000, 500000]\n",
    "df_decisiones = fn.f_decisiones(operacion, sl,tp,volumen)\n",
    "df_decisiones"
   ]
  },
  {
   "cell_type": "markdown",
   "metadata": {},
   "source": [
    "#### <font color= a05000 >"
   ]
  },
  {
   "cell_type": "markdown",
   "metadata": {},
   "source": [
    "<br>"
   ]
  },
  {
   "cell_type": "markdown",
   "metadata": {},
   "source": [
    "# <font color= brown> <font size = 6> 5. Conclusiones </font>"
   ]
  },
  {
   "cell_type": "markdown",
   "metadata": {},
   "source": [
    "<hr style=\"border:0.02in solid orange\"> </hr>"
   ]
  },
  {
   "cell_type": "markdown",
   "metadata": {},
   "source": []
  },
  {
   "cell_type": "code",
   "execution_count": 2,
   "metadata": {},
   "outputs": [],
   "source": [
    "# en esta seccion es opcional incluir algun codigo para mostrar\n",
    "# visualmente algun concepto o hallazgo relevante como conclusion"
   ]
  },
  {
   "cell_type": "code",
   "execution_count": 3,
   "metadata": {},
   "outputs": [],
   "source": [
    "# En esta sección es opcional incluir código para mostrar/visualizar\n",
    "# los datos con los que se trabajó en el laboratorio"
   ]
  },
  {
   "cell_type": "markdown",
   "metadata": {},
   "source": [
    "<br>"
   ]
  },
  {
   "cell_type": "code",
   "execution_count": null,
   "metadata": {},
   "outputs": [],
   "source": []
  }
 ],
 "metadata": {
  "kernelspec": {
   "display_name": "Python 3",
   "language": "python",
   "name": "python3"
  },
  "language_info": {
   "codemirror_mode": {
    "name": "ipython",
    "version": 3
   },
   "file_extension": ".py",
   "mimetype": "text/x-python",
   "name": "python",
   "nbconvert_exporter": "python",
   "pygments_lexer": "ipython3",
   "version": "3.8.3"
  }
 },
 "nbformat": 4,
 "nbformat_minor": 4
}
